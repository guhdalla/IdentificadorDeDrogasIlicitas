{
  "cells": [
    {
      "cell_type": "markdown",
      "metadata": {
        "id": "view-in-github",
        "colab_type": "text"
      },
      "source": [
        "<a href=\"https://colab.research.google.com/github/guhdalla/IdentificadorDeDrogasIlicitas/blob/main/IdentificadorDeDrogasIlicitas.ipynb\" target=\"_parent\"><img src=\"https://colab.research.google.com/assets/colab-badge.svg\" alt=\"Open In Colab\"/></a>"
      ]
    },
    {
      "cell_type": "markdown",
      "metadata": {
        "id": "epCVXt53FE0V"
      },
      "source": [
        "# Indentificar Drogas Ilicitas"
      ]
    },
    {
      "cell_type": "code",
      "execution_count": 1,
      "metadata": {
        "id": "axXVN0zsDkSw"
      },
      "outputs": [],
      "source": [
        "# maconha, cocaína, crack, ecstasy, LSD, inalantes, heroína, barbitúricos, morfina, skank, chá de cogumelo, anfetaminas, clorofórmio, ópio, brisadeiro, f1, beck, verdinho\n",
        "lista = [\"maconha\", \"cocaína\", \"crack\", \"ecstasy\", \"LSD\", \"inalantes\", \"heroína\", \"barbitúricos\", \"morfina\", \"skank\", \"chá de cogumelo\", \"anfetaminas\", \"clorofórmio\", \"ópio\", \"brisadeiro\", \"f1\", \"beck\", \"verdinho\"]"
      ]
    },
    {
      "cell_type": "code",
      "execution_count": null,
      "metadata": {
        "id": "a6D-MRIA3qDA"
      },
      "outputs": [],
      "source": [
        "texto = input()\n",
        "isProibido = False\n",
        "for item in lista:\n",
        "    if item in texto:\n",
        "        isProibido = True\n",
        "\n",
        "if isProibido:\n",
        "    print(\"Item proibido\")\n",
        "else:\n",
        "    print(\"Item permitido\")\n"
      ]
    },
    {
      "cell_type": "markdown",
      "source": [
        "# Utilizando lib fuzzywuzzy"
      ],
      "metadata": {
        "id": "U3GMs7Ew2vnN"
      }
    },
    {
      "cell_type": "code",
      "source": [
        "!pip install fuzzywuzzy[speedup]"
      ],
      "metadata": {
        "colab": {
          "base_uri": "https://localhost:8080/"
        },
        "id": "omdf_bH43Gp5",
        "outputId": "e3133759-8246-403c-b93a-16d47234849d"
      },
      "execution_count": 3,
      "outputs": [
        {
          "output_type": "stream",
          "name": "stdout",
          "text": [
            "Collecting fuzzywuzzy[speedup]\n",
            "  Downloading fuzzywuzzy-0.18.0-py2.py3-none-any.whl (18 kB)\n",
            "Collecting python-levenshtein>=0.12\n",
            "  Downloading python-Levenshtein-0.12.2.tar.gz (50 kB)\n",
            "\u001b[?25l\r\u001b[K     |██████▌                         | 10 kB 22.7 MB/s eta 0:00:01\r\u001b[K     |█████████████                   | 20 kB 29.3 MB/s eta 0:00:01\r\u001b[K     |███████████████████▌            | 30 kB 24.0 MB/s eta 0:00:01\r\u001b[K     |██████████████████████████      | 40 kB 13.9 MB/s eta 0:00:01\r\u001b[K     |████████████████████████████████| 50 kB 5.5 MB/s \n",
            "\u001b[?25hRequirement already satisfied: setuptools in /usr/local/lib/python3.7/dist-packages (from python-levenshtein>=0.12->fuzzywuzzy[speedup]) (57.4.0)\n",
            "Building wheels for collected packages: python-levenshtein\n",
            "  Building wheel for python-levenshtein (setup.py) ... \u001b[?25l\u001b[?25hdone\n",
            "  Created wheel for python-levenshtein: filename=python_Levenshtein-0.12.2-cp37-cp37m-linux_x86_64.whl size=149860 sha256=62caa2c562bb3e8571af1a40fe52d0fc72f216713116a99c96e9d3755b62d282\n",
            "  Stored in directory: /root/.cache/pip/wheels/05/5f/ca/7c4367734892581bb5ff896f15027a932c551080b2abd3e00d\n",
            "Successfully built python-levenshtein\n",
            "Installing collected packages: python-levenshtein, fuzzywuzzy\n",
            "Successfully installed fuzzywuzzy-0.18.0 python-levenshtein-0.12.2\n"
          ]
        }
      ]
    },
    {
      "cell_type": "code",
      "execution_count": 4,
      "metadata": {
        "id": "CqWqigTp3pCZ"
      },
      "outputs": [],
      "source": [
        "from fuzzywuzzy import process"
      ]
    },
    {
      "cell_type": "code",
      "source": [
        "def getMatch(field):\n",
        "    match_list = [\"maconha\", \"cocaína\", \"crack\", \"ecstasy\", \"LSD\", \"inalantes\", \"heroína\", \"barbitúricos\", \"morfina\", \"skank\",\n",
        "         \"chá de cogumelo\", \"anfetaminas\", \"clorofórmio\", \"ópio\", \"brisadeiro\", \"f1\", \"beck\", \"verdinho\"]\n",
        "    search_list = process.extract(field, match_list)\n",
        "\n",
        "    result = []\n",
        "\n",
        "    for text in search_list:\n",
        "        if text[1] > 54:\n",
        "            result.append(text)\n",
        "\n",
        "    if len(result) == 0:\n",
        "        return 'Produto proibido? Não'\n",
        "    return 'Produto proibido? Sim'\n"
      ],
      "metadata": {
        "id": "RMDadj372soT"
      },
      "execution_count": 5,
      "outputs": []
    },
    {
      "cell_type": "code",
      "source": [
        "getMatch(input())"
      ],
      "metadata": {
        "colab": {
          "base_uri": "https://localhost:8080/",
          "height": 53
        },
        "id": "OI4j8eto23g1",
        "outputId": "4d7033cd-52a5-498e-ad06-213ef09eec2d"
      },
      "execution_count": 6,
      "outputs": [
        {
          "name": "stdout",
          "output_type": "stream",
          "text": [
            "maocnha\n"
          ]
        },
        {
          "output_type": "execute_result",
          "data": {
            "text/plain": [
              "'Produto proibido? Sim'"
            ],
            "application/vnd.google.colaboratory.intrinsic+json": {
              "type": "string"
            }
          },
          "metadata": {},
          "execution_count": 6
        }
      ]
    }
  ],
  "metadata": {
    "colab": {
      "collapsed_sections": [],
      "name": "IdentificadorDeDrogasIlicitas.ipynb",
      "provenance": [],
      "authorship_tag": "ABX9TyMbi5SXiGgNEDDuKIOat0N8",
      "include_colab_link": true
    },
    "kernelspec": {
      "display_name": "Python 3",
      "name": "python3"
    },
    "language_info": {
      "name": "python"
    }
  },
  "nbformat": 4,
  "nbformat_minor": 0
}