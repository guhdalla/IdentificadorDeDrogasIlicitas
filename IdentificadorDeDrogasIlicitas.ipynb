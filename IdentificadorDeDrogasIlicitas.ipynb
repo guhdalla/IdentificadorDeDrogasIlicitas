{
  "cells": [
    {
      "cell_type": "markdown",
      "metadata": {
        "id": "view-in-github",
        "colab_type": "text"
      },
      "source": [
        "<a href=\"https://colab.research.google.com/github/guhdalla/IdentificadorDeDrogasIlicitas/blob/main/IdentificadorDeDrogasIlicitas.ipynb\" target=\"_parent\"><img src=\"https://colab.research.google.com/assets/colab-badge.svg\" alt=\"Open In Colab\"/></a>"
      ]
    },
    {
      "cell_type": "markdown",
      "metadata": {
        "id": "epCVXt53FE0V"
      },
      "source": [
        "# Indentificar Drogas Ilicitas"
      ]
    },
    {
      "cell_type": "code",
      "execution_count": 1,
      "metadata": {
        "id": "axXVN0zsDkSw"
      },
      "outputs": [],
      "source": [
        "# maconha, cocaína, crack, ecstasy, LSD, inalantes, heroína, barbitúricos, morfina, skank, chá de cogumelo, anfetaminas, clorofórmio, ópio, brisadeiro, f1, beck, verdinho\n",
        "lista = [\"maconha\", \"cocaína\", \"crack\", \"ecstasy\", \"LSD\", \"inalantes\", \"heroína\", \"barbitúricos\", \"morfina\", \"skank\", \"chá de cogumelo\", \"anfetaminas\", \"clorofórmio\", \"ópio\", \"brisadeiro\", \"f1\", \"beck\", \"verdinho\"]"
      ]
    },
    {
      "cell_type": "code",
      "execution_count": null,
      "metadata": {
        "id": "a6D-MRIA3qDA"
      },
      "outputs": [],
      "source": [
        "texto = input()\n",
        "isProibido = False\n",
        "for item in lista:\n",
        "    if item in texto:\n",
        "        isProibido = True\n",
        "\n",
        "if isProibido:\n",
        "    print(\"Item proibido\")\n",
        "else:\n",
        "    print(\"Item permitido\")\n"
      ]
    },
    {
      "cell_type": "markdown",
      "source": [
        "# Utilizando lib fuzzywuzzy"
      ],
      "metadata": {
        "id": "U3GMs7Ew2vnN"
      }
    },
    {
      "cell_type": "code",
      "source": [
        "!pip install fuzzywuzzy[speedup]"
      ],
      "metadata": {
        "id": "omdf_bH43Gp5"
      },
      "execution_count": null,
      "outputs": []
    },
    {
      "cell_type": "code",
      "execution_count": 4,
      "metadata": {
        "id": "CqWqigTp3pCZ"
      },
      "outputs": [],
      "source": [
        "from fuzzywuzzy import process"
      ]
    },
    {
      "cell_type": "code",
      "source": [
        "def getMatch(field):\n",
        "    search_list = process.extract(field, lista)\n",
        "\n",
        "    result = []\n",
        "\n",
        "    for text in search_list:\n",
        "        if text[1] > 54:\n",
        "          result.append(text)\n",
        "\n",
        "    if len(result) == 0:\n",
        "        return 'Produto proibido? Não'\n",
        "    print(result)\n",
        "    return 'Produto proibido? Sim'\n"
      ],
      "metadata": {
        "id": "RMDadj372soT"
      },
      "execution_count": 29,
      "outputs": []
    },
    {
      "cell_type": "code",
      "source": [
        "getMatch(input())"
      ],
      "metadata": {
        "id": "OI4j8eto23g1"
      },
      "execution_count": null,
      "outputs": []
    },
    {
      "cell_type": "code",
      "source": [
        ""
      ],
      "metadata": {
        "id": "YcAVYq00D1ya"
      },
      "execution_count": null,
      "outputs": []
    }
  ],
  "metadata": {
    "colab": {
      "collapsed_sections": [],
      "name": "IdentificadorDeDrogasIlicitas.ipynb",
      "provenance": [],
      "authorship_tag": "ABX9TyPxrEfq8PA0j2a1DXbMO//L",
      "include_colab_link": true
    },
    "kernelspec": {
      "display_name": "Python 3",
      "name": "python3"
    },
    "language_info": {
      "name": "python"
    }
  },
  "nbformat": 4,
  "nbformat_minor": 0
}